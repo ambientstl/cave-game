{
 "cells": [
  {
   "cell_type": "markdown",
   "metadata": {},
   "source": [
    "# Getting cache list for offline play\n",
    "\n",
    "We could do this in javascript, or as a node.js build script, but lets just use python with jupyter to learn another great tool/language. "
   ]
  },
  {
   "cell_type": "code",
   "execution_count": 1,
   "metadata": {},
   "outputs": [],
   "source": [
    "import os\n",
    "import sys"
   ]
  },
  {
   "cell_type": "markdown",
   "metadata": {},
   "source": [
    "```javascript\n",
    "var filesToCache = [\n",
    "  '/css/styles.css',\n",
    "  '/js/scripts.js',\n",
    "  '/images/logo.svg',\n",
    "  '/offline.html’,\n",
    "  '/’,\n",
    "];\n",
    "\n",
    "//we want to output something like this\n",
    "\n",
    "var filesToCache = [\n",
    "  '{filename}',\n",
    "  ...,\n",
    "  '{filename}’,\n",
    "];\n",
    "```"
   ]
  },
  {
   "cell_type": "code",
   "execution_count": 2,
   "metadata": {},
   "outputs": [
    {
     "name": "stdout",
     "output_type": "stream",
     "text": [
      "['filename1', 'filename2', 'folder/filname3']\n"
     ]
    }
   ],
   "source": [
    "file_arr = ['filename1','filename2', 'folder/filname3']\n",
    "print(file_arr)"
   ]
  },
  {
   "cell_type": "code",
   "execution_count": 14,
   "metadata": {},
   "outputs": [
    {
     "name": "stdout",
     "output_type": "stream",
     "text": [
      "var filesToCache = [\n",
      "\t'filename1',\n",
      "\t'filename2',\n",
      "\t'folder/filname3'\n",
      "];\n"
     ]
    }
   ],
   "source": [
    "strPrefix = \"var filesToCache = [\\n\"\n",
    "strDelim = \",\\n\"\n",
    "strEndfix = \"\\n];\"\n",
    "\n",
    "result = strPrefix + strDelim.join( list(map(lambda x: \"\\t'\" + x + \"\\'\",  file_arr)) )  + strEndfix\n",
    "print(result)"
   ]
  },
  {
   "cell_type": "code",
   "execution_count": 35,
   "metadata": {},
   "outputs": [
    {
     "name": "stdout",
     "output_type": "stream",
     "text": [
      "['.eslintrc.json', '.gitignore', '.stylelintrc', 'CAVE GAME presentation.pdf', 'Cave-Game get cache list.ipynb', 'env.js', 'index.html', 'index.js', 'package-lock.json', 'package.json', 'README.md', 'serviceworker.js', '_redirects']\n",
      "['env.js', 'index.html', 'index.js', 'serviceworker.js']\n"
     ]
    }
   ],
   "source": [
    "from os import listdir\n",
    "from os.path import isfile, join\n",
    "mypath = \"./\"\n",
    "onlyfiles = [f for f in listdir(mypath) if isfile(join(mypath, f))]\n",
    "extension_filter = (\".js\",\".html\", \".css\") # https://www.programiz.com/python-programming/methods/string/endswith\n",
    "print(onlyfiles)\n",
    "print(list( filter(lambda x: x.endswith(extension_filter), onlyfiles) ) )\n",
    "\n",
    "def get_file_list(directory, extension_filter = None):\n",
    "    result = [f for f in listdir(directory) if isfile(join(directory, f))]\n",
    "    if(extension_filter != None):\n",
    "        result = list( filter(lambda x: x.endswith(extension_filter), onlyfiles) )\n",
    "    return result"
   ]
  },
  {
   "cell_type": "code",
   "execution_count": 40,
   "metadata": {},
   "outputs": [],
   "source": [
    "def get_file_cache(directories, extension_filter = None):\n",
    "    strPrefix = \"var filesToCache = [\\n\"\n",
    "    strDelim = \",\\n\"\n",
    "    strEndfix = \"\\n];\"\n",
    "    file_arr = list(map(lambda x: get_file_list(x,extension_filter), directories)) \n",
    "    print(file_arr)\n",
    "    pass\n",
    "    #return strPrefix + strDelim.join( list(map(lambda x: \"\\t'\" + x + \"\\'\",  file_arr)) )  + strEndfix"
   ]
  },
  {
   "cell_type": "code",
   "execution_count": 88,
   "metadata": {},
   "outputs": [
    {
     "data": {
      "text/plain": [
       "['lib/addButtonRowEventListeners',\n",
       " 'lib/atBackOfCave',\n",
       " 'lib/beginAttack',\n",
       " 'lib/calcDamage',\n",
       " 'lib/checkForDeath',\n",
       " 'lib/checkForEnemy',\n",
       " 'lib/checkForHiddenMap',\n",
       " 'lib/createItems',\n",
       " 'lib/createMaps',\n",
       " 'lib/deathScreen',\n",
       " 'lib/doDamage',\n",
       " 'lib/enemies',\n",
       " 'lib/enemyDefeated',\n",
       " 'lib/enterHiddenMap',\n",
       " 'lib/equip',\n",
       " 'lib/examineMap',\n",
       " 'lib/exitMenu',\n",
       " 'lib/hideEquipmentButton',\n",
       " 'lib/imageMap',\n",
       " 'lib/items',\n",
       " 'lib/maps',\n",
       " 'lib/move',\n",
       " 'lib/moveIntoCave',\n",
       " 'lib/players',\n",
       " 'lib/resetState',\n",
       " 'lib/revealHiddenDoor',\n",
       " 'lib/run',\n",
       " 'lib/updateButtonRow',\n",
       " 'lib/updateGameText',\n",
       " 'lib/updateImage',\n",
       " 'lib/updatePlayerHp',\n",
       " 'lib/usePotion',\n",
       " 'lib/winScreen']"
      ]
     },
     "execution_count": 88,
     "metadata": {},
     "output_type": "execute_result"
    }
   ],
   "source": [
    "from os.path import isdir\n",
    "start_path = \"lib\"\n",
    "[start_path + \"/\" + f for f in listdir(start_path) if isdir(join(start_path, f))]"
   ]
  },
  {
   "cell_type": "code",
   "execution_count": 42,
   "metadata": {},
   "outputs": [],
   "source": [
    "directories = [\n",
    " 'components',\n",
    " 'css',\n",
    " 'images',\n",
    " 'js development',\n",
    " 'lib',\n",
    " 'store']"
   ]
  },
  {
   "cell_type": "code",
   "execution_count": 43,
   "metadata": {},
   "outputs": [
    {
     "name": "stdout",
     "output_type": "stream",
     "text": [
      "[['env.js', 'index.html', 'index.js', 'serviceworker.js'], ['env.js', 'index.html', 'index.js', 'serviceworker.js'], ['env.js', 'index.html', 'index.js', 'serviceworker.js'], ['env.js', 'index.html', 'index.js', 'serviceworker.js'], ['env.js', 'index.html', 'index.js', 'serviceworker.js'], ['env.js', 'index.html', 'index.js', 'serviceworker.js']]\n"
     ]
    }
   ],
   "source": [
    "get_file_cache(directories, (\".js\", \".html\", \".css\", \".png\"))"
   ]
  },
  {
   "cell_type": "code",
   "execution_count": 44,
   "metadata": {},
   "outputs": [
    {
     "data": {
      "text/plain": [
       "[]"
      ]
     },
     "execution_count": 44,
     "metadata": {},
     "output_type": "execute_result"
    }
   ],
   "source": [
    "import glob\n",
    "types = (\".js\", \".html\", \".css\", \".png\")\n",
    "files_grabbed = []\n",
    "for files in types:\n",
    "    files_grabbed.extend(glob.glob(files))\n",
    "    \n",
    "files_grabbed"
   ]
  },
  {
   "cell_type": "code",
   "execution_count": 45,
   "metadata": {},
   "outputs": [
    {
     "name": "stdout",
     "output_type": "stream",
     "text": [
      "[]\n"
     ]
    }
   ],
   "source": [
    "from os.path import join\n",
    "from glob import glob\n",
    "\n",
    "files = []\n",
    "types = (\".js\", \".html\", \".css\", \".png\")\n",
    "path = \"./\"\n",
    "for ext in types:\n",
    "   files.extend(glob(join(path, ext)))\n",
    "\n",
    "print(files)"
   ]
  },
  {
   "cell_type": "code",
   "execution_count": 46,
   "metadata": {},
   "outputs": [
    {
     "name": "stdout",
     "output_type": "stream",
     "text": [
      "[]\n"
     ]
    }
   ],
   "source": [
    "from glob import glob\n",
    "\n",
    "files = glob('*.gif')\n",
    "files.extend(glob('*.png'))\n",
    "files.extend(glob('*.jpg'))\n",
    "\n",
    "print(files)"
   ]
  },
  {
   "cell_type": "code",
   "execution_count": 63,
   "metadata": {},
   "outputs": [
    {
     "name": "stdout",
     "output_type": "stream",
     "text": [
      "(?s:.*\\.js)\\Z\n",
      "env.js\n",
      "index.js\n",
      "README.md\n",
      "serviceworker.js\n"
     ]
    }
   ],
   "source": [
    "#this is it\n",
    "import os, fnmatch, re\n",
    "\n",
    "listOfFiles = os.listdir('.')\n",
    "pattern = r\"(?s:.*\\.(js|md))\\Z\"#*.js\"\n",
    "regex = fnmatch.translate(\"*.js\")#pattern)\n",
    "print(regex)\n",
    "for entry in listOfFiles:\n",
    "    if re.match(pattern,entry): #fnmatch.fnmatch(entry, pattern):\n",
    "            print (entry)"
   ]
  },
  {
   "cell_type": "code",
   "execution_count": 63,
   "metadata": {},
   "outputs": [
    {
     "name": "stdout",
     "output_type": "stream",
     "text": [
      "(?s:.*\\.js)\\Z\n",
      "env.js\n",
      "index.js\n",
      "README.md\n",
      "serviceworker.js\n"
     ]
    }
   ],
   "source": [
    "#this is it\n",
    "import os, fnmatch, re\n",
    "\n",
    "listOfFiles = os.listdir('.')\n",
    "pattern = r\"(?s:.*\\.(js|md))\\Z\"#*.js\"\n",
    "regex = fnmatch.translate(\"*.js\")#pattern)\n",
    "print(regex)\n",
    "for entry in listOfFiles:\n",
    "    if re.match(pattern,entry): #fnmatch.fnmatch(entry, pattern):\n",
    "            print (entry)"
   ]
  },
  {
   "cell_type": "code",
   "execution_count": 71,
   "metadata": {},
   "outputs": [
    {
     "name": "stdout",
     "output_type": "stream",
     "text": [
      "env.js\n",
      "index.js\n",
      "README.md\n",
      "serviceworker.js\n"
     ]
    }
   ],
   "source": [
    "import os, re\n",
    "\n",
    "def files(path):\n",
    "    for file in os.listdir(path):\n",
    "        if re.match(pattern,file):\n",
    "            if os.path.isfile(os.path.join(path, file)):\n",
    "                yield file\n",
    "\n",
    "for file in files(\".\"):\n",
    "    print (file)"
   ]
  },
  {
   "cell_type": "code",
   "execution_count": 74,
   "metadata": {},
   "outputs": [
    {
     "name": "stdout",
     "output_type": "stream",
     "text": [
      "env.js\n",
      "index.js\n",
      "README.md\n",
      "serviceworker.js\n",
      "env.js\n",
      "index.js\n",
      "README.md\n",
      "serviceworker.js\n"
     ]
    }
   ],
   "source": [
    "import os, re\n",
    "\n",
    "pattern = r\"(?s:.*\\.(js|md))\\Z\"\n",
    "\n",
    "def files(path, pattern=\"*\"):\n",
    "    for file in os.listdir(path):\n",
    "        if re.match(pattern,file):\n",
    "            if os.path.isfile(os.path.join(path, file)):\n",
    "                yield file\n",
    "\n",
    "def files_in_directories(directories, pattern=\"*\"):\n",
    "    for d in directories:\n",
    "        yield files(d, pattern)\n",
    "                \n",
    "for file in files(\".\", pattern):\n",
    "    print (file)\n",
    "\n",
    "for file in files_in_directories([\".\"], pattern):\n",
    "    for f in file:\n",
    "        print(f)"
   ]
  },
  {
   "cell_type": "code",
   "execution_count": 101,
   "metadata": {},
   "outputs": [
    {
     "name": "stdout",
     "output_type": "stream",
     "text": [
      "var filesToCache = [\n",
      "\t'/components/ButtonRow.js',\n",
      "\t'/components/CenterSection.js',\n",
      "\t'/components/Frame.js',\n",
      "\t'/components/index.js',\n",
      "\t'/components/PlayerInfo.js',\n",
      "\t'/components/RightSection.js',\n",
      "\t'/components/views/EquipmentList.js',\n",
      "\t'/components/views/Image.js',\n",
      "\t'/components/views/index.js',\n",
      "\t'/components/views/ItemMenu.js',\n",
      "\t'/images/enemies/bat.png',\n",
      "\t'/images/enemies/bear-head.png',\n",
      "\t'/images/enemies/grim-reaper.png',\n",
      "\t'/images/enemies/haunting.png',\n",
      "\t'/images/enemies/imp-laugh.png',\n",
      "\t'/images/enemies/spectre.png',\n",
      "\t'/images/enemies/spiked-dragon-head.png',\n",
      "\t'/images/enemies/witch-face.png',\n",
      "\t'/images/equip/amulet.png',\n",
      "\t'/images/equip/axe.png',\n",
      "\t'/images/equip/breastplate.png',\n",
      "\t'/images/equip/gem-pendant.png',\n",
      "\t'/images/equip/gloves.png',\n",
      "\t'/images/equip/helmet.png',\n",
      "\t'/images/equip/legs.png',\n",
      "\t'/images/equip/mace.png',\n",
      "\t'/images/equip/orb-wand.png',\n",
      "\t'/images/equip/shield.png',\n",
      "\t'/images/equip/sword.png',\n",
      "\t'/images/equip/wood-stick.png',\n",
      "\t'/images/gui/back.png',\n",
      "\t'/images/gui/forward.png',\n",
      "\t'/images/gui/health-normal.png',\n",
      "\t'/images/gui/speaker-off.png',\n",
      "\t'/images/gui/speaker.png',\n",
      "\t'/images/gui/trophy-cup.png',\n",
      "\t'/images/items/potion-ball.png',\n",
      "\t'/images/items/shiny-apple.png',\n",
      "\t'/images/items/square-bottle.png',\n",
      "\t'/images/items/white-book.png',\n",
      "\t'/images/map/cauldron.png',\n",
      "\t'/images/map/cave-entrance.png',\n",
      "\t'/js development/bats.js',\n",
      "\t'/js development/eventHandling.js',\n",
      "\t'/js development/examine button.js',\n",
      "\t'/js development/importantFunctionality.js',\n",
      "\t'/js development/importantObjects.js',\n",
      "\t'/js development/item menu button.js',\n",
      "\t'/js development/items.js',\n",
      "\t'/js development/movement.js',\n",
      "\t'/js development/some-logic.js',\n",
      "\t'/lib/index.js',\n",
      "\t'/store/Buttons.js',\n",
      "\t'/store/GameText.js',\n",
      "\t'/store/index.js',\n",
      "\t'/store/MainScreen.js',\n",
      "\t'/store/Player.js'\n",
      "];\n"
     ]
    }
   ],
   "source": [
    "import os, re\n",
    "import functools \n",
    "directories = [\n",
    "    'components',\n",
    "    r'components/views',\n",
    "    'css',\n",
    "    r'images/enemies',\n",
    "    r'images/equip',\n",
    "    r'images/gui',\n",
    "    r'images/items',\n",
    "    r'images/map',\n",
    "    'js development',\n",
    "    'lib',\n",
    "    'store']\n",
    "\n",
    "pattern = r\"(?s:.*\\.(js|md|png))\\Z\"\n",
    "\n",
    "#files = os.listdir(path)\n",
    "#print(files)\n",
    "#filtered = [f for f in files if re.match(pattern,f)]\n",
    "#print(filtered)\n",
    "\n",
    "def get_files(directory, pattern=\"*\"):\n",
    "    return [directory +\"/\"+ f for f in os.listdir(directory) if re.match(pattern,f)]\n",
    "\n",
    "def files_in_directories(directories, pattern=\"*\"):\n",
    "    #return [get_files(d, pattern) for d in directories if (len(get_files(d, pattern))>0)]\n",
    "    result = [get_files(d, pattern) for d in directories if (len(get_files(d, pattern))>0)]\n",
    "    return (list(functools.reduce(lambda a,b: a+b, result)))\n",
    "\n",
    "def get_file_cache(directory, pattern=\"*\"):\n",
    "    strPrefix = \"var filesToCache = [\\n\"\n",
    "    strDelim = \",\\n\"\n",
    "    strEndfix = \"\\n];\"\n",
    "    file_arr = files_in_directories(directories, pattern)\n",
    "    return strPrefix + strDelim.join( list(map(lambda x: \"\\t'/\" + x + \"\\'\",  file_arr)) )  + strEndfix\n",
    "\n",
    "#print(files_in_directories(directories, pattern))\n",
    "\n",
    "print(get_file_cache(directories, pattern))"
   ]
  },
  {
   "cell_type": "code",
   "execution_count": 52,
   "metadata": {},
   "outputs": [
    {
     "ename": "AttributeError",
     "evalue": "'WindowsPath' object has no attribute 'extend'",
     "output_type": "error",
     "traceback": [
      "\u001b[1;31m---------------------------------------------------------------------------\u001b[0m",
      "\u001b[1;31mAttributeError\u001b[0m                            Traceback (most recent call last)",
      "\u001b[1;32m<ipython-input-52-43f86cfadb6a>\u001b[0m in \u001b[0;36m<module>\u001b[1;34m\u001b[0m\n\u001b[0;32m      7\u001b[0m \u001b[0mcurrentPattern\u001b[0m \u001b[1;33m=\u001b[0m \u001b[1;34m\"*.js\"\u001b[0m\u001b[1;33m\u001b[0m\u001b[1;33m\u001b[0m\u001b[0m\n\u001b[0;32m      8\u001b[0m \u001b[0mcurrentDirectory\u001b[0m\u001b[1;33m.\u001b[0m\u001b[0mglob\u001b[0m\u001b[1;33m(\u001b[0m\u001b[0mcurrentPattern\u001b[0m\u001b[1;33m)\u001b[0m\u001b[1;33m\u001b[0m\u001b[1;33m\u001b[0m\u001b[0m\n\u001b[1;32m----> 9\u001b[1;33m \u001b[0mcurrentDirectory\u001b[0m\u001b[1;33m.\u001b[0m\u001b[0mextend\u001b[0m\u001b[1;33m(\u001b[0m\u001b[0mglob\u001b[0m\u001b[1;33m(\u001b[0m\u001b[1;34m'*.png'\u001b[0m\u001b[1;33m)\u001b[0m\u001b[1;33m)\u001b[0m\u001b[1;33m\u001b[0m\u001b[1;33m\u001b[0m\u001b[0m\n\u001b[0m\u001b[0;32m     10\u001b[0m \u001b[0mcurrentDirectory\u001b[0m\u001b[1;33m.\u001b[0m\u001b[0mextend\u001b[0m\u001b[1;33m(\u001b[0m\u001b[0mglob\u001b[0m\u001b[1;33m(\u001b[0m\u001b[1;34m'*.md'\u001b[0m\u001b[1;33m)\u001b[0m\u001b[1;33m)\u001b[0m\u001b[1;33m\u001b[0m\u001b[1;33m\u001b[0m\u001b[0m\n\u001b[0;32m     11\u001b[0m \u001b[1;33m\u001b[0m\u001b[0m\n",
      "\u001b[1;31mAttributeError\u001b[0m: 'WindowsPath' object has no attribute 'extend'"
     ]
    }
   ],
   "source": [
    "import pathlib\n",
    "\n",
    "# define the path\n",
    "currentDirectory = pathlib.Path('.')\n",
    "\n",
    "# define the pattern\n",
    "currentPattern = \"*.js\"\n",
    "currentDirectory.glob(currentPattern)\n",
    "currentDirectory.extend(glob('*.png'))\n",
    "currentDirectory.extend(glob('*.md'))\n",
    "\n",
    "for currentFile in currentDirectory.glob(currentPattern):\n",
    "    print(currentFile)"
   ]
  },
  {
   "cell_type": "code",
   "execution_count": null,
   "metadata": {},
   "outputs": [],
   "source": []
  }
 ],
 "metadata": {
  "kernelspec": {
   "display_name": "Python 3.6.8 64-bit ('tensorflow_gpuenv': conda)",
   "language": "python",
   "name": "python36864bittensorflowgpuenvconda1fd537a5d2ce4cd0add54ec7fbf91d00"
  },
  "language_info": {
   "codemirror_mode": {
    "name": "ipython",
    "version": 3
   },
   "file_extension": ".py",
   "mimetype": "text/x-python",
   "name": "python",
   "nbconvert_exporter": "python",
   "pygments_lexer": "ipython3",
   "version": "3.6.8"
  }
 },
 "nbformat": 4,
 "nbformat_minor": 2
}
